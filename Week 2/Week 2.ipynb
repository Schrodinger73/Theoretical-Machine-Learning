{
 "cells": [
  {
   "cell_type": "markdown",
   "id": "5df2ac18-93a3-4cea-8f99-f25c80a7e47d",
   "metadata": {},
   "source": [
    "Import required libraries."
   ]
  },
  {
   "cell_type": "code",
   "execution_count": 1,
   "id": "5a4662e5-a61b-4ed6-a76b-fcfad2382663",
   "metadata": {},
   "outputs": [],
   "source": [
    "import numpy as np\n",
    "import pandas as pd\n",
    "import matplotlib.pyplot as plt"
   ]
  },
  {
   "cell_type": "markdown",
   "id": "4df0f2de-df36-4580-8b02-eaf6406c98db",
   "metadata": {},
   "source": [
    "Import the dataset."
   ]
  },
  {
   "cell_type": "code",
   "execution_count": 2,
   "id": "38538500-e7e3-41ff-8842-d597193dee6d",
   "metadata": {},
   "outputs": [],
   "source": [
    "df = pd.read_csv(\"iris.csv\")"
   ]
  },
  {
   "cell_type": "code",
   "execution_count": 3,
   "id": "b4f5d20f-83d8-4a71-bf5d-df7e9efd7344",
   "metadata": {},
   "outputs": [
    {
     "data": {
      "text/html": [
       "<div>\n",
       "<style scoped>\n",
       "    .dataframe tbody tr th:only-of-type {\n",
       "        vertical-align: middle;\n",
       "    }\n",
       "\n",
       "    .dataframe tbody tr th {\n",
       "        vertical-align: top;\n",
       "    }\n",
       "\n",
       "    .dataframe thead th {\n",
       "        text-align: right;\n",
       "    }\n",
       "</style>\n",
       "<table border=\"1\" class=\"dataframe\">\n",
       "  <thead>\n",
       "    <tr style=\"text-align: right;\">\n",
       "      <th></th>\n",
       "      <th>Id</th>\n",
       "      <th>SepalLengthCm</th>\n",
       "      <th>SepalWidthCm</th>\n",
       "      <th>PetalLengthCm</th>\n",
       "      <th>PetalWidthCm</th>\n",
       "      <th>Species</th>\n",
       "    </tr>\n",
       "  </thead>\n",
       "  <tbody>\n",
       "    <tr>\n",
       "      <th>0</th>\n",
       "      <td>1</td>\n",
       "      <td>5.1</td>\n",
       "      <td>3.5</td>\n",
       "      <td>1.4</td>\n",
       "      <td>0.2</td>\n",
       "      <td>Iris-setosa</td>\n",
       "    </tr>\n",
       "    <tr>\n",
       "      <th>1</th>\n",
       "      <td>2</td>\n",
       "      <td>4.9</td>\n",
       "      <td>3.0</td>\n",
       "      <td>1.4</td>\n",
       "      <td>0.2</td>\n",
       "      <td>Iris-setosa</td>\n",
       "    </tr>\n",
       "    <tr>\n",
       "      <th>2</th>\n",
       "      <td>3</td>\n",
       "      <td>4.7</td>\n",
       "      <td>3.2</td>\n",
       "      <td>1.3</td>\n",
       "      <td>0.2</td>\n",
       "      <td>Iris-setosa</td>\n",
       "    </tr>\n",
       "    <tr>\n",
       "      <th>3</th>\n",
       "      <td>4</td>\n",
       "      <td>4.6</td>\n",
       "      <td>3.1</td>\n",
       "      <td>1.5</td>\n",
       "      <td>0.2</td>\n",
       "      <td>Iris-setosa</td>\n",
       "    </tr>\n",
       "    <tr>\n",
       "      <th>4</th>\n",
       "      <td>5</td>\n",
       "      <td>5.0</td>\n",
       "      <td>3.6</td>\n",
       "      <td>1.4</td>\n",
       "      <td>0.2</td>\n",
       "      <td>Iris-setosa</td>\n",
       "    </tr>\n",
       "  </tbody>\n",
       "</table>\n",
       "</div>"
      ],
      "text/plain": [
       "   Id  SepalLengthCm  SepalWidthCm  PetalLengthCm  PetalWidthCm      Species\n",
       "0   1            5.1           3.5            1.4           0.2  Iris-setosa\n",
       "1   2            4.9           3.0            1.4           0.2  Iris-setosa\n",
       "2   3            4.7           3.2            1.3           0.2  Iris-setosa\n",
       "3   4            4.6           3.1            1.5           0.2  Iris-setosa\n",
       "4   5            5.0           3.6            1.4           0.2  Iris-setosa"
      ]
     },
     "execution_count": 3,
     "metadata": {},
     "output_type": "execute_result"
    }
   ],
   "source": [
    "df.head()"
   ]
  },
  {
   "cell_type": "code",
   "execution_count": 4,
   "id": "3ac5f97d-d988-4a04-96ba-f20a73fe8df9",
   "metadata": {},
   "outputs": [
    {
     "data": {
      "text/plain": [
       "<matplotlib.collections.PathCollection at 0x11ebb66c0>"
      ]
     },
     "execution_count": 4,
     "metadata": {},
     "output_type": "execute_result"
    },
    {
     "data": {
      "image/png": "[encoded data removed]",
      "text/plain": [
       "<Figure size 640x480 with 1 Axes>"
      ]
     },
     "metadata": {},
     "output_type": "display_data"
    }
   ],
   "source": [
    "plt.scatter(df[\"PetalWidthCm\"], df[\"PetalLengthCm\"])"
   ]
  },
  {
   "cell_type": "markdown",
   "id": "a3dfb640-daab-4461-baa4-7fb598615dfe",
   "metadata": {},
   "source": [
    "# We can see  that it appears to have a linear relation, but how would we get the relation? What is the algorithm?\n",
    "<br>\n",
    "<h4> Well, we will try to minimize the loss function.\n",
    "<br>\n",
    "Loss Function is a general estimation of how \"wrong\" our estimate is. It can be any increasing function of |y<sub>actual</sub> - y<sub>prediction</sub>|\n",
    "<br>\n",
    "For our convenience, we use mean of squares. \n",
    "<br>\n",
    "Loss Function - $\\frac{\\sum_{i = 1}^{N} (y_{i} ^ {actual} - y_{i} ^ {prediction})^2}{N}$ </h4>"
   ]
  },
  {
   "cell_type": "markdown",
   "id": "9fbfb73e-463e-4c62-bf9b-1b303e332c2b",
   "metadata": {},
   "source": [
    "<h4>We can see that y is following a linear relation with respect to x, so we are trying to find a line y = mx + c, which gives the lowest loss.</h4>"
   ]
  },
  {
   "cell_type": "markdown",
   "id": "ce3ea913-4bbb-4298-a611-d777e51895f9",
   "metadata": {},
   "source": [
    "<h4>So, we are trying to find out for what m and c, the loss is minumum.\n",
    "<br>\n",
    "We have $L(m, c) = \\frac{\\sum_{i = 1}^{N} (y_{i} - m x_{i} - c)^2}{N}$</h4>"
   ]
  },
  {
   "cell_type": "markdown",
   "id": "989bc15b-aa32-4cd1-9167-21751beb1601",
   "metadata": {},
   "source": [
    "<h4>$\\frac{\\partial L}{\\partial m} = \\frac{\\sum_{i = 1}^{N} -x_{i}(y_{i} - m x_{i} - c)}{N}$\n",
    "<br>\n",
    "$\\frac{\\partial L}{\\partial c} = \\frac{\\sum_{i = 1}^{N} -(y_{i} - m x_{i} - c)}{N}$\n",
    "<br>\n",
    "<br>\n",
    "To minimize loss, we need both of these to be equal to 0, which gives us \n",
    "<br>\n",
    "$m = \\frac{N(\\sum xy) - (\\sum x)(\\sum y)}{N(\\sum x^2) - (\\sum x)^2}$\n",
    "<br>\n",
    "$c = \\frac{(\\sum y)(\\sum x^2) - (\\sum x)(\\sum xy)}{N(\\sum x^2) - (\\sum x)^2}$</h4>"
   ]
  },
  {
   "cell_type": "markdown",
   "id": "3644f81d-4c34-4932-9b6d-c078f42fc653",
   "metadata": {},
   "source": [
    "<h4>With this new found formula, we can try to see how our model looks.</h4>"
   ]
  },
  {
   "cell_type": "code",
   "execution_count": 5,
   "id": "5059e120-c45f-4213-aea2-93dd3d811a9d",
   "metadata": {},
   "outputs": [
    {
     "name": "stdout",
     "output_type": "stream",
     "text": [
      "2.225885306553904\n",
      "1.0905721458773867\n"
     ]
    }
   ],
   "source": [
    "X = np.array(df[\"PetalWidthCm\"])\n",
    "Y = np.array(df[\"PetalLengthCm\"])\n",
    "N = len(X)\n",
    "m = (N*sum(X*Y) - sum(X) * sum(Y))/(N * sum(X**2) - (sum(X))**2)\n",
    "c = (sum(Y) * sum(X**2) - sum(X) * sum(X*Y))/(N * sum(X**2) - (sum(X))**2)\n",
    "print(m)\n",
    "print(c)"
   ]
  },
  {
   "cell_type": "code",
   "execution_count": 6,
   "id": "9d711ede-2976-437f-b890-cc9620d2ef18",
   "metadata": {},
   "outputs": [
    {
     "data": {
      "image/png": "[encoded data removed]",
      "text/plain": [
       "<Figure size 640x480 with 1 Axes>"
      ]
     },
     "metadata": {},
     "output_type": "display_data"
    }
   ],
   "source": [
    "plt.scatter(X, Y, color = \"blue\")\n",
    "X_1 = np.min(X)\n",
    "Y_1 = m * X_1 + c\n",
    "X_2 = np.max(X)\n",
    "Y_2 = m * X_2 + c\n",
    "plt.plot([X_1, X_2], [Y_1, Y_2], color = \"black\")\n",
    "plt.legend([\"Actual Data\", \"Regression Line\"])\n",
    "plt.title(\"Y \" + r'$\\approx$ '  + str(round(m, 2)) + \" X + \" + str(round(c, 2)))\n",
    "plt.show()"
   ]
  },
  {
   "cell_type": "code",
   "execution_count": null,
   "id": "007f84d9-d179-4fb8-a467-f9201ea8c514",
   "metadata": {},
   "outputs": [],
   "source": []
  }
 ],
 "metadata": {
  "kernelspec": {
   "display_name": "Python 3 (ipykernel)",
   "language": "python",
   "name": "python3"
  },
  "language_info": {
   "codemirror_mode": {
    "name": "ipython",
    "version": 3
   },
   "file_extension": ".py",
   "mimetype": "text/x-python",
   "name": "python",
   "nbconvert_exporter": "python",
   "pygments_lexer": "ipython3",
   "version": "3.12.1"
  }
 },
 "nbformat": 4,
 "nbformat_minor": 5
}
